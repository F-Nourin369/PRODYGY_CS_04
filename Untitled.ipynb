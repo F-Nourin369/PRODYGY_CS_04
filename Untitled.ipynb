{
 "cells": [
  {
   "cell_type": "code",
   "execution_count": null,
   "id": "1a1705ee-aa46-4edf-b644-5b5e1f2f6999",
   "metadata": {},
   "outputs": [],
   "source": [
    "from tkinter import *\n",
    "import re\n",
    "\n",
    "def check_password_strength():\n",
    "    password = entry.get()\n",
    "    strength = \"Weak\"\n",
    "    color = \"red\"\n",
    "\n",
    "    # Criteria checks\n",
    "    length_criteria = len(password) >= 8\n",
    "    lowercase_criteria = re.search(r'[a-z]', password) is not None\n",
    "    uppercase_criteria = re.search(r'[A-Z]', password) is not None\n",
    "    number_criteria = re.search(r'[0-9]', password) is not None\n",
    "    special_criteria = re.search(r'[\\W_]', password) is not None\n",
    "\n",
    "    criteria_met = sum([length_criteria, lowercase_criteria, uppercase_criteria, number_criteria, special_criteria])\n",
    "\n",
    "    if criteria_met == 5:\n",
    "        strength = \"Very Strong\"\n",
    "        color = \"green\"\n",
    "    elif criteria_met == 4:\n",
    "        strength = \"Strong\"\n",
    "        color = \"blue\"\n",
    "    elif criteria_met == 3:\n",
    "        strength = \"Medium\"\n",
    "        color = \"orange\"\n",
    "\n",
    "    result_label.config(text=f\"Password Strength: {strength}\", fg=color)\n",
    "\n",
    "root = Tk()\n",
    "root.title(\"Password Complexity Checker\")\n",
    "root.geometry(\"400x200\")\n",
    "\n",
    "Label(root, text=\"Enter your password:\").pack(pady=10)\n",
    "entry = Entry(root, width=30, show=\"*\")\n",
    "entry.pack(pady=10)\n",
    "\n",
    "Button(root, text=\"Check Strength\", command=check_password_strength).pack(pady=10)\n",
    "\n",
    "result_label = Label(root, text=\"Password Strength: \", font=(\"Helvetica\", 12))\n",
    "result_label.pack(pady=10)\n",
    "\n",
    "root.mainloop()\n"
   ]
  }
 ],
 "metadata": {
  "kernelspec": {
   "display_name": "Python 3 (ipykernel)",
   "language": "python",
   "name": "python3"
  },
  "language_info": {
   "codemirror_mode": {
    "name": "ipython",
    "version": 3
   },
   "file_extension": ".py",
   "mimetype": "text/x-python",
   "name": "python",
   "nbconvert_exporter": "python",
   "pygments_lexer": "ipython3",
   "version": "3.11.7"
  }
 },
 "nbformat": 4,
 "nbformat_minor": 5
}
